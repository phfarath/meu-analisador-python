{
 "cells": [
  {
   "cell_type": "markdown",
   "id": "63b44af2",
   "metadata": {},
   "source": [
    "# 🛡️ Previsões com Stop-Loss, Take-Profit e Visualização com Setas\n",
    "Neste notebook:\n",
    "- Utilizamos um modelo RandomForest para prever altas\n",
    "- Realizamos um backtest com Stop-Loss e Take-Profit\n",
    "- Visualizamos as compras com setas verdes no gráfico\n",
    "- Mostramos onde o SL ou TP foram ativados com ícones\n"
   ]
  },
  {
   "cell_type": "code",
   "execution_count": 44,
   "id": "7feebf41",
   "metadata": {},
   "outputs": [],
   "source": [
    "import pandas as pd\n",
    "import numpy as np\n",
    "from sklearn.model_selection import train_test_split\n",
    "from sklearn.ensemble import RandomForestClassifier\n",
    "from imblearn.over_sampling import SMOTE\n",
    "import plotly.graph_objects as go\n",
    "import matplotlib.pyplot as plt\n",
    "import ta\n",
    "plt.style.use('ggplot')"
   ]
  },
  {
   "cell_type": "code",
   "execution_count": 45,
   "id": "74f544f1",
   "metadata": {},
   "outputs": [],
   "source": [
    "ticker = 'AAPL'\n",
    "df = pd.read_csv(f'../data/{ticker}_ativo_com_indicadores.csv')\n",
    "df['Datetime'] = pd.to_datetime(df['Datetime'])\n",
    "df.set_index('Datetime', inplace=True)\n",
    "df.dropna(inplace=True)"
   ]
  },
  {
   "cell_type": "code",
   "execution_count": 46,
   "id": "de220610",
   "metadata": {},
   "outputs": [],
   "source": [
    "df['target'] = df['close'].shift(-3)\n",
    "df['target_class'] = np.where(df['target'] > df['close'] * 1.002, 1,\n",
    "                         np.where(df['target'] < df['close'] * 0.998, 0, -1))\n",
    "df = df[df['target_class'] != -1]"
   ]
  },
  {
   "cell_type": "code",
   "execution_count": 47,
   "id": "7d6ed270",
   "metadata": {},
   "outputs": [],
   "source": [
    "features = ['open', 'high', 'low', 'close', 'volume', 'rsi', 'macd', 'macd_signal',\n",
    "            'sma_20', 'ema_20', 'bb_upper', 'bb_lower']\n",
    "\n",
    "X = df[features]\n",
    "y = df['target_class']\n",
    "X_train, X_test, y_train, y_test = train_test_split(X, y, shuffle=False, test_size=0.2)\n",
    "\n",
    "sm = SMOTE(random_state=42)\n",
    "X_res, y_res = sm.fit_resample(X_train, y_train)\n",
    "\n",
    "modelo = RandomForestClassifier(n_estimators=100, class_weight='balanced', random_state=42)\n",
    "modelo.fit(X_res, y_res)\n",
    "\n",
    "probs = modelo.predict_proba(X_test)[:, 1]\n",
    "limiar = 0.7\n",
    "df_test = df.iloc[-len(X_test):].copy()\n",
    "df_test['proba_alta'] = probs\n",
    "df_test['sinal_compra'] = (df_test['proba_alta'] > limiar).astype(int)"
   ]
  },
  {
   "cell_type": "code",
   "execution_count": 48,
   "id": "f1f606b0",
   "metadata": {},
   "outputs": [],
   "source": [
    "stop_loss = 0.01\n",
    "take_profit = 0.02\n",
    "capital = 10000\n",
    "retornos = []\n",
    "entradas = []\n",
    "saidas = []\n",
    "tipos_saida = []\n",
    "\n",
    "for i in range(len(df_test) - 3):\n",
    "    if df_test['sinal_compra'].iloc[i] == 1:\n",
    "        preco_entrada = df_test['close'].iloc[i]\n",
    "        preco_alvo = preco_entrada * (1 + take_profit)\n",
    "        preco_stop = preco_entrada * (1 - stop_loss)\n",
    "        saida = df_test['close'].iloc[i + 3]\n",
    "        tipo_saida = 'Neutra'\n",
    "        for j in range(1, 4):  # verifica os próximos 3 candles\n",
    "            preco = df_test['close'].iloc[i + j]\n",
    "            if preco >= preco_alvo:\n",
    "                saida = preco\n",
    "                tipo_saida = 'TP'\n",
    "                break\n",
    "            elif preco <= preco_stop:\n",
    "                saida = preco\n",
    "                tipo_saida = 'SL'\n",
    "                break\n",
    "        retorno = (saida - preco_entrada) / preco_entrada\n",
    "        entradas.append((df_test.index[i], df_test['low'].iloc[i] * 0.995))\n",
    "        saidas.append((df_test.index[i + j], df_test['high'].iloc[i + j] * 1.002))\n",
    "        tipos_saida.append(tipo_saida)\n",
    "        retornos.append(retorno)\n",
    "    else:\n",
    "        retornos.append(0)"
   ]
  },
  {
   "cell_type": "code",
   "execution_count": 49,
   "id": "f9d656ff",
   "metadata": {},
   "outputs": [
    {
     "data": {
      "application/vnd.plotly.v1+json": {
       "config": {
        "plotlyServerURL": "https://plot.ly"
       },
       "data": [
        {
         "close": {
          "bdata": "AQAAIK53akAAAACgR2lqQAAAAIDCfWpA////PzO7akAAAACAPY5qQAEAAOBhh2pAAAAA4IqdakAAAAAAKZxqQP///z8zm2pAAAAAgBSKakAAAADAnYVqQAEAACCuZ2pAAAAAANdnakAAAAAA14tqQP7//z/4nGpAAAAAAGafakAAAABgj8pqQAAAAEAKt2pAAAAAYGa2akABAADAMKdqQAAAAADXl2pAAAAAYI9qakAAAACAJlhqQAEAAMDMTGpAAAAAoEddakAAAABgZmZqQP///9+jcGpAAAAAQB5yakAAAACgcHVqQAEAAOCRimpAAAAAAACkakAAAACgcLVqQAAAAKCZ0WpA////f+vVakABAABA4eJqQAAAAIAUxmpAAQAAIIWrakABAAAgpdFqQAAAAGC4xmpAAQAAQOG2akABAABA4Z5qQAAAAEAKq2pAAAAAoHC1akAAAABACrdqQAAAAKARiWpAAAAAQAp3akAAAABgj4ZqQAAAAGAOiWpAAAAAQAqLakAAAACgcJ1qQAAAAKBHmWpA////f+vVakAAAADgeiRrQAEAAEDhQmtA////36Mka0ABAABA4QprQAAAAKCZ8WpA////30/rakD+//8/YANrQAAAAKCbCGtAAAAAoHDxakAAAACgmelqQAAAAECi3mpA////PzPTakAAAAAAKcxqQAAAAKCZwWpA////f+vZakD////fo8hqQAAAAAAAEGtAAQAAIFHwakAAAACgmelqQP///x8o1GpAAQAAIK7vakAAAABgsR9rQP///3/rGWtAAAAAACkMa0AAAACAaP1qQAAAAMD1CGtAAAAA4BTzakD///+/HuVqQAEAAEDhsmpAAQAAwMysakAAAABgj7JqQAEAACDSi2pAAAAAoEedakAAAABg57VqQAAAAAALoWpAAAAAYI+6akD////fo8BqQAAAAGB9zmpAAAAAIC/FakABAAAgMa5qQAAAAGC4lmpA////f1OoakD///9/G89qQAAAAGCP4mpAAAAAgMLtakD///9/6+FqQAAAAKBHyWpAAAAAwPfhakD///9/6+lqQAAAAADX62pAAAAA4HpIa0ABAAAguYZrQAEAACCud2tA////H1x3a0AAAABACmVrQAAAAKBHeWtAAQAAwPxla0AAAACAPXJrQAAAAOAia2tAAAAAoEd5a0D////fo3hrQP///9+jfGtAAAAAgBSOa0AAAABgZrZrQAAAAIDC3WtAAAAAANffa0ABAABA4e5rQP///3/r2WtAAAAAYPXba0AAAADA9fhrQAAAAGCx2WtAAAAAYLjma0AAAACgcO1rQP///9+j+GtA////36McbEAAAACgmQlsQAEAAMDM9GtAAAAAACn4a0AAAABACvdrQAAAAEAK32tAAAAAgD3Wa0AAAACgmfVrQAAAAEAK52tAAQAA4MXZa0AAAACAFM5rQAAAAGC4umtAAQAAwMy0a0D///8/M5NrQAEAAMDMqGtAAQAAwMy0a0D///+/HrVrQAEAACCFz2tAAAAAAADga0D///+/HvVrQP///x9c42tAAQAAILnoa0AAAACAPeprQAAAAGBkA2xAAAAAYI8WbEAAAACgRxlsQAAAAGBmFmxAAAAAgML9a0D////fT99rQAAAAAAp7GtAAQAAIIW7a0AAAABguI5rQP///z8zk2tAAAAAAACAa0D///8fXH9rQAAAAIA9cmtAAAAAwPVwa0AAAADA9WhrQAEAACCuS2tAAAAAoJlha0ABAAAg0k1rQAEAAOBRUGtAAQAAIIVDa0AAAAAAKTxrQP///x9cP2tAAAAAACkka0AAAACAPVJrQAAAAEAKa2tAAAAAAClka0ABAABA4XJrQAAAAKBwnWtA////H1yPa0D///8/M4NrQAAAAEAKj2tAAAAAANd7a0AAAAAAKWxrQAAAAODwbmtAAAAAoHCZa0AAAABACpdrQAAAAGCPkmtAAAAAoEexa0A=",
          "dtype": "f8"
         },
         "high": {
          "bdata": "AQAAIHV8akAAAABgj4JqQAAAAAApjGpAAAAAACm8akAAAACgR6lqQAEAACCul2pAAAAAYGaeakD///8fXKdqQAAAAAAAsGpAAAAAAEahakAAAADgRpFqQAAAAKATlmpAAAAAoHBtakAAAAAAAJBqQAAAAOAmrWpA////36OoakAAAABACt9qQP///78ezWpAAAAAAADAakD///9/67lqQAEAAOBRqGpA////36OYakABAADAzGxqQAEAAOBRYGpAAAAAoHBhakAAAACgmXlqQAEAACCud2pAAAAAoEx5akAAAACAwnVqQAAAAADXi2pAAAAAoHClakAAAAAA7rdqQAAAAGB/2WpAAAAAYLjWakAAAABACudqQAAAAIBx5WpAAAAAoJnhakD///8fXNdqQAAAAOB63GpAAAAAANfHakD///9/661qQAAAAKBHrWpAAAAAQAq3akD///8fXL9qQAAAAGBmkmpAAAAAgBR+akAAAADA9ZRqQAAAAKCZiWpAAAAAANeTakABAADgUahqQAEAAOBRoGpAAAAAoJnxakAAAABACjdrQAEAAOBRWGtA////36NIa0AAAACgCCdrQAAAAADXC2tAAAAA4Hr8akABAAAgrgtrQAAAAAAAGGtAAQAAQOEKa0ABAADgcfRqQAAAAIAm5GpA////PzPjakAAAAAAKdRqQAAAAAAA0GpAAAAAACncakAAAAAgl+FqQAAAAGDjIWtAAAAAoEcRa0AAAADgevRqQAAAAMDB1WpAAQAAIK7vakABAABArS9rQAAAAKBwKWtAAAAAoO0Qa0AAAABgdg1rQAAAAGCPCmtAAAAAYLgOa0AAAACAFA5rQAAAAGC4tmpAAAAA4Hq8akAAAACAPbpqQAEAAEDhompAAQAAIK6fakAAAACAPbZqQAAAAKCZuWpAAQAA4D3HakABAADAzMRqQAAAAKBH0WpAAQAAQOHaakAAAACgmcVqQP7//z+Eu2pAAAAAgD2yakAAAADA9dBqQAAAAKBw7WpA////H1zvakAAAACgme1qQAAAAIDC3WpAAAAAYAXnakABAABA4epqQAAAAMD17GpAAQAAQOFaa0AAAABACpdrQAAAAMC/emtAAQAAIK6Ha0AAAAAAAIBrQAAAAIA9emtAAQAAQK1va0ABAABA4XJrQAEAACCFc2tAAAAAQAqPa0AAAACgR4FrQAAAAOB6gGtAAQAA4FGga0AAAADgRtFrQAAAAOB65GtAAAAAACnsa0AAAAAAKfRrQP///78e8WtAAAAAYGbea0AAAABAXv5rQP7//z9A6WtAAAAAYLjma0ABAAAghfNrQAEAAEDh+mtAAAAAILcdbED////foyBsQAAAAGAp+2tA////PzP7a0AAAABgGQpsQAEAAMDM/GtAAAAAYI/ma0AAAAAAAPhrQAAAAKBH+WtAAAAA4Ebxa0D///+/Ht1rQAAAAKBHwWtAAQAA4FG8a0AAAABACqdrQAAAAIAUtmtAAAAAYLi2a0AAAACAjsJrQP///3/r0WtAAAAAoHfya0D///8fXP9rQP///9+j9GtA////f+vxa0AAAABgZvZrQAAAAKBHGWxAAAAAYLgWbEABAAAgrh9sQP///3/rGWxAAQAAIK4fbEAAAACgCuRrQAAAAKCZ+WtA////H1z3a0ABAAAg7Y9rQAEAAMDMlGtA////PzOTa0AAAACgcIVrQAAAAEAKh2tAAQAA4FF4a0AAAABgj3prQAAAAGCPWmtAAAAAAFRla0ABAADAzFRrQP///7+GVWtAAAAAoEdRa0AAAAAAAFhrQAAAAAAAUGtAAAAAYGZGa0D///9/62lrQAAAAGCPgmtAAAAAYI96a0AAAACAPYJrQAAAAIDCnWtA////36Oga0AAAADA9ZhrQAEAAOBRmGtAAAAAANePa0AAAAAA13trQAAAAAAAiGtA////f+uZa0AAAAAAIqNrQAAAAGC4pmtAAQAAIK6za0A=",
          "dtype": "f8"
         },
         "low": {
          "bdata": "AAAAoJlhakAAAABgZmZqQAAAAKBHaWpA////vx59akABAADAzIxqQAEAAOBhh2pA/v//P1CCakAAAACABJVqQAAAAKBHmWpAAQAA4FGIakAAAABguH5qQAAAAIDCXWpAAQAA4FFYakAAAAAAAGhqQP///3/rmWpAAAAAYLiWakAAAACgcIVqQAAAAGBmnmpAAAAAQAqXakAAAADA9aBqQAAAAOB6lGpAAAAAANdpakAAAACAFFZqQP///x9cP2pAAQAAIIVLakD///9/62FqQAAAAOB6ZGpAAAAAAABoakABAABA4WJqQAAAAKCZcWpAAAAAwPWIakAAAACgmaFqQAAAAOB6zGpAAAAAgMLFakD///8fkNJqQAAAAKBwtWpAAQAAIIWrakD///8fXLdqQAAAAKBHwWpAAAAAAAuvakD///+/Hp1qQAAAAKBHmWpAAQAAIK6nakAAAADAKaRqQAEAACCub2pAAAAAgMJ1akAAAABAcn1qQAAAAOB6fGpAAAAAgD2CakD///9/64lqQAAAAIDCjWpA////fx+9akD///9/69FqQAEAAMDMJGtA////f+sha0D///8/MwNrQAAAAGBm7mpAAAAAoJnpakABAADgUfRqQAAAAKBw/WpAAAAAAADoakAAAACAwuVqQAAAAIAUzmpAAAAAYI/SakAAAACgR8lqQAEAACCFu2pAAAAAAAC4akD///+/HsVqQAAAAKCZ8WpAAAAAYLjmakD///8fXM9qQAEAAMDMnGpA////H1zPakAAAAAAKQxrQAEAAMDMFGtAAAAAADT5akD///9/6/lqQAAAAIDC7WpAAAAAgD3yakD///8fXN9qQP///x9cp2pAAAAAgMKlakABAAAghatqQAAAAGCPimpAAQAAQOGKakAAAACAFJZqQAAAAEAKb2pAAAAAoHClakD///+/Hq1qQP///78etWpAAQAAwMzEakAAAACgV6hqQAAAAIA9lmpAAAAAgMKVakAAAADgepRqQAAAAADX02pA////f+vhakAAAABACt9qQP///79SyGpAAQAAIIXbakAAAACgcN1qQAEAAOBR4GpAAQAAQOHqakAAAAAAAGhrQAAAAAAAaGtAAAAAANdza0D///8/72BrQP7//z/oaWtA////PzNja0ABAABA4WJrQAAAAKBwZWtA////36N4a0AAAACgrXJrQP///78edWtAAAAA4Hp8a0AAAABgj4JrQAAAAAApwmtAAAAAoJnJa0ABAAAgheNrQAAAAKCZ2WtA////PzPTa0AAAABgZt5rQAAAAKCZ2WtA////vx7Za0AAAABAPuJrQAAAAKBH6WtA////f+vpa0AAAAAA1wNsQAAAAKCZ6WtAAAAAAADwa0AAAABgZvZrQAAAAEAK32tAAAAAANfDa0AAAAAAINZrQAAAAKBw5WtAAAAAoHDVa0ABAABA4cprQAAAAIBst2tAAAAAoJmxa0D///8/M5NrQP///3/rmWtAAQAAQOGaa0AAAAAAALBrQAEAAMDMrGtAAAAAgBTea0AAAACAwuVrQAAAAMD14GtAAAAAoJnha0ABAAAgrudrQP///78eAWxAAAAAgD3+a0AAAACgDxRsQAEAAEDhCmxAAAAAYGb2a0ABAAAgrp9rQAEAAOBR2GtAAAAAYGa2a0AAAAAAKXRrQAAAAEAKg2tA////P2d2a0AAAACgcGVrQP///3/raWtA////Pzdpa0AAAABgZmZrQAEAACCuR2tAAAAAgBRSa0AAAABgiENrQAAAAMBJRmtA////f+tBa0AAAACAwjVrQAEAACCuB2tAAQAAQOEaa0AAAABgZkZrQP///9+jaGtA////vw5ea0D///9/U1xrQAEAACCFe2tAAAAAYLiOa0AAAABguIJrQAAAAKCZfWtAAAAA4Hpsa0D///8/M2trQAAAAAC8Z2tA////H1yHa0AAAADgepRrQAAAAOB6jGtAAAAAoJmRa0A=",
          "dtype": "f8"
         },
         "name": "Candlestick",
         "open": {
          "bdata": "AQAA4FFoakAAAABgZnhqQP///3/raWpAAAAAgMJ9akAAAAAAKaRqQAAAAIDCjWpAAQAAIIWHakD///9/651qQAAAAADXm2pAAAAAYLiaakAAAADgrolqQAEAAOBRjGpAAQAAIK5nakAAAAAAAGhqQAAAAGBmqmpAAAAAoKCcakABAAAghatqQAAAAGBmympAAQAAwMy8akAAAABgZrZqQP///z8zp2pAAAAAANeXakABAABA4WpqQAAAAAApWGpAAQAAwKhMakD///8/Z3ZqQAAAAGC4ZmpAAAAAwPVwakAAAAAA12tqQAAAAIAUempA////H1yLakAAAAAAAKRqQAAAAOB6zGpAAAAAwPXIakAAAACAwtVqQAEAAEDh4mpAAAAA4HrEakAAAADA9bhqQAAAAKCZ0WpAAQAAIIXDakAAAAAAAKhqQAAAAGC4nmpAAAAAgBSqakAAAACAPbZqQAAAAAAAiGpA////PzN7akAAAACAwn1qQAEAAEDhhmpA////vx6JakAAAABACotqQAAAAGCPnmpAAAAAQArHakD///9/69VqQAAAAMD1JGtAAQAAINlCa0AAAABguCZrQAAAAGCPCmtAAQAA4FHwakAAAACAFPZqQAAAAADXA2tAAAAAAAAIa0AAAABgZvJqQAEAAEBZ2GpAAAAAQArfakABAABA4dJqQP///z8zz2pAAAAAYLi+akD///9/69lqQAAAAIA98mpAAQAA4FEQa0AAAABgj/JqQAEAACCuv2pA////H1zTakD///8fXA9rQAAAAGBmHmtAAAAAAEIJa0AAAAAA1wtrQAEAAMDM/GpAAQAA4FEIa0AAAACgR/lqQAEAAOBRqGpAAAAAgD2yakAAAACAwq1qQAAAAEA+kmpA////PzOLakAAAACAFJZqQAAAAOB6cGpA////vx7FakAAAABguLZqQAAAAAAAwGpAAAAAQArPakAAAABgTcVqQAAAAIAUrmpAAAAAYGaWakAAAAAAAKhqQAAAAKBw1WpAAQAAQOHiakAAAACgme1qQAAAAOB61GpAAAAAoHDlakAAAACg7eBqQP///3/r6WpAAQAAIIXrakAAAACgR3FrQP///3/reWtA////H1x3a0ABAAAgrn9rQP///3/raWtAAAAAgD1qa0AAAACAwmVrQAAAAIA9cmtAAAAAIEOEa0AAAACgR3lrQAAAAKBHeWtA////36OAa0D///9/65lrQP///78e1WtAAAAAACnsa0ABAAAgheNrQAAAAEAK72tA////v3baa0D///8/M99rQP///7/K5WtAAAAAoJnZa0AAAABACudrQP///78e7WtAAQAA4FHwa0ABAAAghRtsQAEAACCu62tA////36P0a0AAAAAAKfhrQAAAAAAL92tAAAAAQArfa0D///8/M99rQAAAAKCZ9WtAAQAAQOHma0AAAACgmdlrQAAAAOB6vGtAAAAAgBS6a0AAAACgcKFrQAAAAGCPsmtAAAAAoEepa0ABAADAzLRrQAAAAKBwtWtA////H1zja0AAAACAwuVrQAEAAEDh8mtAAAAAYI/ia0AAAACgR+lrQAEAAMDMFGxAAAAAQAoDbEAAAABgZhZsQAAAAKCZGWxAAAAAgD0WbEAAAACgxLRrQAAAAGC43mtAAAAAgD3qa0AAAADgenxrQAAAAGC4jmtAAAAAQAqTa0D///8fXH9rQP///9+DfGtA////f+txa0AAAAAAAHBrQAAAAAAAUGtA////H1xXa0ABAADgUVBrQAAAAIAUTmtAAAAAAABQa0AAAAAA10NrQAAAAEAKJ2tAAQAAIK4/a0AAAABgj1prQAAAAMD1aGtAAAAAQApra0D///8/M2NrQAEAAOBRgGtAAQAAwMyca0AAAADA9ZBrQAAAAGCPgmtAAAAAQAqPa0AAAAAAAHRrQAAAAAApbGtAAQAAwMyMa0AAAACgmZlrQAAAAIA9lmtA////f+uRa0A=",
          "dtype": "f8"
         },
         "type": "candlestick",
         "x": [
          "2025-03-14T14:45:00+00:00",
          "2025-03-14T15:00:00+00:00",
          "2025-03-14T15:15:00+00:00",
          "2025-03-14T15:30:00+00:00",
          "2025-03-14T16:00:00+00:00",
          "2025-03-14T16:15:00+00:00",
          "2025-03-14T16:30:00+00:00",
          "2025-03-14T16:45:00+00:00",
          "2025-03-14T17:00:00+00:00",
          "2025-03-14T17:15:00+00:00",
          "2025-03-14T17:30:00+00:00",
          "2025-03-14T18:00:00+00:00",
          "2025-03-14T18:15:00+00:00",
          "2025-03-14T18:30:00+00:00",
          "2025-03-14T19:15:00+00:00",
          "2025-03-14T19:30:00+00:00",
          "2025-03-17T13:30:00+00:00",
          "2025-03-17T13:45:00+00:00",
          "2025-03-17T14:00:00+00:00",
          "2025-03-17T14:15:00+00:00",
          "2025-03-17T14:30:00+00:00",
          "2025-03-17T14:45:00+00:00",
          "2025-03-17T15:15:00+00:00",
          "2025-03-17T15:30:00+00:00",
          "2025-03-17T15:45:00+00:00",
          "2025-03-17T16:15:00+00:00",
          "2025-03-17T16:30:00+00:00",
          "2025-03-17T16:45:00+00:00",
          "2025-03-17T17:00:00+00:00",
          "2025-03-17T17:15:00+00:00",
          "2025-03-17T17:30:00+00:00",
          "2025-03-17T17:45:00+00:00",
          "2025-03-17T18:45:00+00:00",
          "2025-03-17T19:15:00+00:00",
          "2025-03-17T19:30:00+00:00",
          "2025-03-17T19:45:00+00:00",
          "2025-03-18T13:30:00+00:00",
          "2025-03-18T14:15:00+00:00",
          "2025-03-18T14:30:00+00:00",
          "2025-03-18T14:45:00+00:00",
          "2025-03-18T15:30:00+00:00",
          "2025-03-18T15:45:00+00:00",
          "2025-03-18T16:00:00+00:00",
          "2025-03-18T16:15:00+00:00",
          "2025-03-18T17:15:00+00:00",
          "2025-03-18T18:00:00+00:00",
          "2025-03-18T18:45:00+00:00",
          "2025-03-18T19:00:00+00:00",
          "2025-03-18T19:15:00+00:00",
          "2025-03-18T19:30:00+00:00",
          "2025-03-18T19:45:00+00:00",
          "2025-03-19T13:30:00+00:00",
          "2025-03-19T13:45:00+00:00",
          "2025-03-19T14:00:00+00:00",
          "2025-03-19T14:15:00+00:00",
          "2025-03-19T14:30:00+00:00",
          "2025-03-19T14:45:00+00:00",
          "2025-03-19T15:00:00+00:00",
          "2025-03-19T15:30:00+00:00",
          "2025-03-19T15:45:00+00:00",
          "2025-03-19T16:00:00+00:00",
          "2025-03-19T16:15:00+00:00",
          "2025-03-19T16:45:00+00:00",
          "2025-03-19T17:00:00+00:00",
          "2025-03-19T17:15:00+00:00",
          "2025-03-19T17:45:00+00:00",
          "2025-03-19T18:00:00+00:00",
          "2025-03-19T18:15:00+00:00",
          "2025-03-19T19:00:00+00:00",
          "2025-03-19T19:15:00+00:00",
          "2025-03-19T19:45:00+00:00",
          "2025-03-20T13:30:00+00:00",
          "2025-03-20T13:45:00+00:00",
          "2025-03-20T14:15:00+00:00",
          "2025-03-20T14:30:00+00:00",
          "2025-03-20T15:00:00+00:00",
          "2025-03-20T15:15:00+00:00",
          "2025-03-20T15:30:00+00:00",
          "2025-03-20T15:45:00+00:00",
          "2025-03-20T16:00:00+00:00",
          "2025-03-20T17:30:00+00:00",
          "2025-03-20T17:45:00+00:00",
          "2025-03-20T18:00:00+00:00",
          "2025-03-20T18:45:00+00:00",
          "2025-03-20T19:00:00+00:00",
          "2025-03-20T19:30:00+00:00",
          "2025-03-21T13:30:00+00:00",
          "2025-03-21T14:00:00+00:00",
          "2025-03-21T14:30:00+00:00",
          "2025-03-21T14:45:00+00:00",
          "2025-03-21T15:00:00+00:00",
          "2025-03-21T15:15:00+00:00",
          "2025-03-21T15:30:00+00:00",
          "2025-03-21T15:45:00+00:00",
          "2025-03-21T16:00:00+00:00",
          "2025-03-21T16:30:00+00:00",
          "2025-03-21T16:45:00+00:00",
          "2025-03-21T17:00:00+00:00",
          "2025-03-21T17:45:00+00:00",
          "2025-03-21T19:00:00+00:00",
          "2025-03-21T19:15:00+00:00",
          "2025-03-21T19:30:00+00:00",
          "2025-03-21T19:45:00+00:00",
          "2025-03-24T13:45:00+00:00",
          "2025-03-24T14:30:00+00:00",
          "2025-03-24T14:45:00+00:00",
          "2025-03-24T15:15:00+00:00",
          "2025-03-24T15:45:00+00:00",
          "2025-03-24T17:30:00+00:00",
          "2025-03-24T17:45:00+00:00",
          "2025-03-24T18:00:00+00:00",
          "2025-03-24T19:00:00+00:00",
          "2025-03-24T19:15:00+00:00",
          "2025-03-24T19:30:00+00:00",
          "2025-03-24T19:45:00+00:00",
          "2025-03-25T13:30:00+00:00",
          "2025-03-25T14:00:00+00:00",
          "2025-03-25T14:30:00+00:00",
          "2025-03-25T17:00:00+00:00",
          "2025-03-25T17:15:00+00:00",
          "2025-03-25T17:30:00+00:00",
          "2025-03-25T18:00:00+00:00",
          "2025-03-25T18:45:00+00:00",
          "2025-03-25T19:00:00+00:00",
          "2025-03-25T19:15:00+00:00",
          "2025-03-25T19:30:00+00:00",
          "2025-03-26T13:30:00+00:00",
          "2025-03-26T13:45:00+00:00",
          "2025-03-26T14:45:00+00:00",
          "2025-03-26T15:00:00+00:00",
          "2025-03-26T15:15:00+00:00",
          "2025-03-26T15:30:00+00:00",
          "2025-03-26T15:45:00+00:00",
          "2025-03-26T16:15:00+00:00",
          "2025-03-26T16:30:00+00:00",
          "2025-03-26T16:45:00+00:00",
          "2025-03-26T17:00:00+00:00",
          "2025-03-26T18:15:00+00:00",
          "2025-03-26T18:30:00+00:00",
          "2025-03-26T19:15:00+00:00",
          "2025-03-27T14:00:00+00:00",
          "2025-03-27T14:15:00+00:00",
          "2025-03-27T14:30:00+00:00",
          "2025-03-27T14:45:00+00:00",
          "2025-03-27T15:45:00+00:00",
          "2025-03-27T16:30:00+00:00",
          "2025-03-27T17:15:00+00:00",
          "2025-03-27T17:30:00+00:00",
          "2025-03-27T17:45:00+00:00",
          "2025-03-27T18:45:00+00:00",
          "2025-03-27T19:00:00+00:00",
          "2025-03-27T19:15:00+00:00",
          "2025-03-27T19:30:00+00:00",
          "2025-03-27T19:45:00+00:00",
          "2025-03-28T13:30:00+00:00",
          "2025-03-28T13:45:00+00:00",
          "2025-03-28T14:00:00+00:00",
          "2025-03-28T14:30:00+00:00",
          "2025-03-28T14:45:00+00:00",
          "2025-03-28T15:00:00+00:00",
          "2025-03-28T15:15:00+00:00",
          "2025-03-28T15:30:00+00:00",
          "2025-03-28T15:45:00+00:00",
          "2025-03-28T16:00:00+00:00",
          "2025-03-28T17:30:00+00:00",
          "2025-03-28T18:15:00+00:00",
          "2025-03-28T19:00:00+00:00",
          "2025-03-28T19:15:00+00:00",
          "2025-03-28T19:30:00+00:00",
          "2025-03-28T19:45:00+00:00",
          "2025-03-31T13:30:00+00:00",
          "2025-03-31T13:45:00+00:00",
          "2025-03-31T14:15:00+00:00",
          "2025-03-31T15:00:00+00:00",
          "2025-03-31T15:15:00+00:00",
          "2025-03-31T15:30:00+00:00",
          "2025-03-31T16:15:00+00:00",
          "2025-03-31T16:30:00+00:00",
          "2025-03-31T16:45:00+00:00",
          "2025-03-31T17:00:00+00:00",
          "2025-03-31T17:15:00+00:00",
          "2025-03-31T17:30:00+00:00",
          "2025-03-31T17:45:00+00:00",
          "2025-03-31T18:15:00+00:00",
          "2025-03-31T18:30:00+00:00",
          "2025-03-31T18:45:00+00:00",
          "2025-03-31T19:00:00+00:00"
         ]
        }
       ],
       "layout": {
        "annotations": [
         {
          "arrowcolor": "green",
          "arrowhead": 3,
          "arrowsize": 1,
          "arrowwidth": 2,
          "showarrow": true,
          "text": "🟢 Compra",
          "x": "2025-03-14T18:15:00+00:00",
          "y": 209.70619453430177
         },
         {
          "arrowcolor": "green",
          "arrowhead": 3,
          "arrowsize": 1,
          "arrowwidth": 2,
          "showarrow": true,
          "text": "🟢 Compra",
          "x": "2025-03-17T15:15:00+00:00",
          "y": 209.6365524291992
         },
         {
          "arrowcolor": "green",
          "arrowhead": 3,
          "arrowsize": 1,
          "arrowwidth": 2,
          "showarrow": true,
          "text": "🟢 Compra",
          "x": "2025-03-17T15:30:00+00:00",
          "y": 208.93009574890135
         },
         {
          "arrowcolor": "green",
          "arrowhead": 3,
          "arrowsize": 1,
          "arrowwidth": 2,
          "showarrow": true,
          "text": "🟢 Compra",
          "x": "2025-03-17T15:45:00+00:00",
          "y": 209.30820060729982
         },
         {
          "arrowcolor": "green",
          "arrowhead": 3,
          "arrowsize": 1,
          "arrowwidth": 2,
          "showarrow": true,
          "text": "🟢 Compra",
          "x": "2025-03-26T18:15:00+00:00",
          "y": 220.6233346557617
         },
         {
          "arrowcolor": "green",
          "arrowhead": 3,
          "arrowsize": 1,
          "arrowwidth": 2,
          "showarrow": true,
          "text": "🟢 Compra",
          "x": "2025-03-26T18:30:00+00:00",
          "y": 220.442253036499
         },
         {
          "arrowcolor": "green",
          "arrowhead": 3,
          "arrowsize": 1,
          "arrowwidth": 2,
          "showarrow": true,
          "text": "🟢 Compra",
          "x": "2025-03-27T14:00:00+00:00",
          "y": 219.70594757080076
         },
         {
          "arrowcolor": "green",
          "arrowhead": 3,
          "arrowsize": 1,
          "arrowwidth": 2,
          "showarrow": true,
          "text": "🟢 Compra",
          "x": "2025-03-27T14:15:00+00:00",
          "y": 219.7357963562012
         },
         {
          "arrowcolor": "green",
          "arrowhead": 3,
          "arrowsize": 1,
          "arrowwidth": 2,
          "showarrow": true,
          "text": "🟢 Compra",
          "x": "2025-03-27T14:30:00+00:00",
          "y": 220.3925
         },
         {
          "arrowcolor": "green",
          "arrowhead": 3,
          "arrowsize": 1,
          "arrowwidth": 2,
          "showarrow": true,
          "text": "🟢 Compra",
          "x": "2025-03-27T17:15:00+00:00",
          "y": 221.91484878540038
         },
         {
          "arrowcolor": "green",
          "arrowhead": 3,
          "arrowsize": 1,
          "arrowwidth": 2,
          "showarrow": true,
          "text": "🟢 Compra",
          "x": "2025-03-27T17:30:00+00:00",
          "y": 221.93475303649902
         },
         {
          "arrowcolor": "green",
          "arrowhead": 3,
          "arrowsize": 1,
          "arrowwidth": 2,
          "showarrow": true,
          "text": "🟢 Compra",
          "x": "2025-03-28T17:30:00+00:00",
          "y": 217.14880546569827
         },
         {
          "arrowcolor": "gray",
          "arrowhead": 2,
          "arrowsize": 1,
          "arrowwidth": 2,
          "showarrow": true,
          "text": "⏹️",
          "x": "2025-03-14T19:30:00+00:00",
          "y": 213.69654428100583
         },
         {
          "arrowcolor": "gray",
          "arrowhead": 2,
          "arrowsize": 1,
          "arrowwidth": 2,
          "showarrow": true,
          "text": "⏹️",
          "x": "2025-03-17T16:15:00+00:00",
          "y": 212.22360305786134
         },
         {
          "arrowcolor": "gray",
          "arrowhead": 2,
          "arrowsize": 1,
          "arrowwidth": 2,
          "showarrow": true,
          "text": "⏹️",
          "x": "2025-03-17T16:30:00+00:00",
          "y": 212.16348550415043
         },
         {
          "arrowcolor": "gray",
          "arrowhead": 2,
          "arrowsize": 1,
          "arrowwidth": 2,
          "showarrow": true,
          "text": "⏹️",
          "x": "2025-03-17T16:45:00+00:00",
          "y": 212.2141848449707
         },
         {
          "arrowcolor": "gray",
          "arrowhead": 2,
          "arrowsize": 1,
          "arrowwidth": 2,
          "showarrow": true,
          "text": "⏹️",
          "x": "2025-03-27T14:00:00+00:00",
          "y": 222.13338244628906
         },
         {
          "arrowcolor": "gray",
          "arrowhead": 2,
          "arrowsize": 1,
          "arrowwidth": 2,
          "showarrow": true,
          "text": "⏹️",
          "x": "2025-03-27T14:15:00+00:00",
          "y": 222.1534267272949
         },
         {
          "arrowcolor": "gray",
          "arrowhead": 2,
          "arrowsize": 1,
          "arrowwidth": 2,
          "showarrow": true,
          "text": "⏹️",
          "x": "2025-03-27T14:45:00+00:00",
          "y": 223.0051175537109
         },
         {
          "arrowcolor": "gray",
          "arrowhead": 2,
          "arrowsize": 1,
          "arrowwidth": 2,
          "showarrow": true,
          "text": "⏹️",
          "x": "2025-03-27T15:45:00+00:00",
          "y": 224.0242568664551
         },
         {
          "arrowcolor": "gray",
          "arrowhead": 2,
          "arrowsize": 1,
          "arrowwidth": 2,
          "showarrow": true,
          "text": "⏹️",
          "x": "2025-03-27T16:30:00+00:00",
          "y": 224.4279557189941
         },
         {
          "arrowcolor": "gray",
          "arrowhead": 2,
          "arrowsize": 1,
          "arrowwidth": 2,
          "showarrow": true,
          "text": "⏹️",
          "x": "2025-03-27T18:45:00+00:00",
          "y": 225.2395732727051
         },
         {
          "arrowcolor": "gray",
          "arrowhead": 2,
          "arrowsize": 1,
          "arrowwidth": 2,
          "showarrow": true,
          "text": "⏹️",
          "x": "2025-03-27T19:00:00+00:00",
          "y": 225.1594267272949
         },
         {
          "arrowcolor": "gray",
          "arrowhead": 2,
          "arrowsize": 1,
          "arrowwidth": 2,
          "showarrow": true,
          "text": "⏹️",
          "x": "2025-03-28T19:15:00+00:00",
          "y": 219.11004437255858
         }
        ],
        "height": 700,
        "template": {
         "data": {
          "bar": [
           {
            "error_x": {
             "color": "#2a3f5f"
            },
            "error_y": {
             "color": "#2a3f5f"
            },
            "marker": {
             "line": {
              "color": "#E5ECF6",
              "width": 0.5
             },
             "pattern": {
              "fillmode": "overlay",
              "size": 10,
              "solidity": 0.2
             }
            },
            "type": "bar"
           }
          ],
          "barpolar": [
           {
            "marker": {
             "line": {
              "color": "#E5ECF6",
              "width": 0.5
             },
             "pattern": {
              "fillmode": "overlay",
              "size": 10,
              "solidity": 0.2
             }
            },
            "type": "barpolar"
           }
          ],
          "carpet": [
           {
            "aaxis": {
             "endlinecolor": "#2a3f5f",
             "gridcolor": "white",
             "linecolor": "white",
             "minorgridcolor": "white",
             "startlinecolor": "#2a3f5f"
            },
            "baxis": {
             "endlinecolor": "#2a3f5f",
             "gridcolor": "white",
             "linecolor": "white",
             "minorgridcolor": "white",
             "startlinecolor": "#2a3f5f"
            },
            "type": "carpet"
           }
          ],
          "choropleth": [
           {
            "colorbar": {
             "outlinewidth": 0,
             "ticks": ""
            },
            "type": "choropleth"
           }
          ],
          "contour": [
           {
            "colorbar": {
             "outlinewidth": 0,
             "ticks": ""
            },
            "colorscale": [
             [
              0,
              "#0d0887"
             ],
             [
              0.1111111111111111,
              "#46039f"
             ],
             [
              0.2222222222222222,
              "#7201a8"
             ],
             [
              0.3333333333333333,
              "#9c179e"
             ],
             [
              0.4444444444444444,
              "#bd3786"
             ],
             [
              0.5555555555555556,
              "#d8576b"
             ],
             [
              0.6666666666666666,
              "#ed7953"
             ],
             [
              0.7777777777777778,
              "#fb9f3a"
             ],
             [
              0.8888888888888888,
              "#fdca26"
             ],
             [
              1,
              "#f0f921"
             ]
            ],
            "type": "contour"
           }
          ],
          "contourcarpet": [
           {
            "colorbar": {
             "outlinewidth": 0,
             "ticks": ""
            },
            "type": "contourcarpet"
           }
          ],
          "heatmap": [
           {
            "colorbar": {
             "outlinewidth": 0,
             "ticks": ""
            },
            "colorscale": [
             [
              0,
              "#0d0887"
             ],
             [
              0.1111111111111111,
              "#46039f"
             ],
             [
              0.2222222222222222,
              "#7201a8"
             ],
             [
              0.3333333333333333,
              "#9c179e"
             ],
             [
              0.4444444444444444,
              "#bd3786"
             ],
             [
              0.5555555555555556,
              "#d8576b"
             ],
             [
              0.6666666666666666,
              "#ed7953"
             ],
             [
              0.7777777777777778,
              "#fb9f3a"
             ],
             [
              0.8888888888888888,
              "#fdca26"
             ],
             [
              1,
              "#f0f921"
             ]
            ],
            "type": "heatmap"
           }
          ],
          "histogram": [
           {
            "marker": {
             "pattern": {
              "fillmode": "overlay",
              "size": 10,
              "solidity": 0.2
             }
            },
            "type": "histogram"
           }
          ],
          "histogram2d": [
           {
            "colorbar": {
             "outlinewidth": 0,
             "ticks": ""
            },
            "colorscale": [
             [
              0,
              "#0d0887"
             ],
             [
              0.1111111111111111,
              "#46039f"
             ],
             [
              0.2222222222222222,
              "#7201a8"
             ],
             [
              0.3333333333333333,
              "#9c179e"
             ],
             [
              0.4444444444444444,
              "#bd3786"
             ],
             [
              0.5555555555555556,
              "#d8576b"
             ],
             [
              0.6666666666666666,
              "#ed7953"
             ],
             [
              0.7777777777777778,
              "#fb9f3a"
             ],
             [
              0.8888888888888888,
              "#fdca26"
             ],
             [
              1,
              "#f0f921"
             ]
            ],
            "type": "histogram2d"
           }
          ],
          "histogram2dcontour": [
           {
            "colorbar": {
             "outlinewidth": 0,
             "ticks": ""
            },
            "colorscale": [
             [
              0,
              "#0d0887"
             ],
             [
              0.1111111111111111,
              "#46039f"
             ],
             [
              0.2222222222222222,
              "#7201a8"
             ],
             [
              0.3333333333333333,
              "#9c179e"
             ],
             [
              0.4444444444444444,
              "#bd3786"
             ],
             [
              0.5555555555555556,
              "#d8576b"
             ],
             [
              0.6666666666666666,
              "#ed7953"
             ],
             [
              0.7777777777777778,
              "#fb9f3a"
             ],
             [
              0.8888888888888888,
              "#fdca26"
             ],
             [
              1,
              "#f0f921"
             ]
            ],
            "type": "histogram2dcontour"
           }
          ],
          "mesh3d": [
           {
            "colorbar": {
             "outlinewidth": 0,
             "ticks": ""
            },
            "type": "mesh3d"
           }
          ],
          "parcoords": [
           {
            "line": {
             "colorbar": {
              "outlinewidth": 0,
              "ticks": ""
             }
            },
            "type": "parcoords"
           }
          ],
          "pie": [
           {
            "automargin": true,
            "type": "pie"
           }
          ],
          "scatter": [
           {
            "fillpattern": {
             "fillmode": "overlay",
             "size": 10,
             "solidity": 0.2
            },
            "type": "scatter"
           }
          ],
          "scatter3d": [
           {
            "line": {
             "colorbar": {
              "outlinewidth": 0,
              "ticks": ""
             }
            },
            "marker": {
             "colorbar": {
              "outlinewidth": 0,
              "ticks": ""
             }
            },
            "type": "scatter3d"
           }
          ],
          "scattercarpet": [
           {
            "marker": {
             "colorbar": {
              "outlinewidth": 0,
              "ticks": ""
             }
            },
            "type": "scattercarpet"
           }
          ],
          "scattergeo": [
           {
            "marker": {
             "colorbar": {
              "outlinewidth": 0,
              "ticks": ""
             }
            },
            "type": "scattergeo"
           }
          ],
          "scattergl": [
           {
            "marker": {
             "colorbar": {
              "outlinewidth": 0,
              "ticks": ""
             }
            },
            "type": "scattergl"
           }
          ],
          "scattermap": [
           {
            "marker": {
             "colorbar": {
              "outlinewidth": 0,
              "ticks": ""
             }
            },
            "type": "scattermap"
           }
          ],
          "scattermapbox": [
           {
            "marker": {
             "colorbar": {
              "outlinewidth": 0,
              "ticks": ""
             }
            },
            "type": "scattermapbox"
           }
          ],
          "scatterpolar": [
           {
            "marker": {
             "colorbar": {
              "outlinewidth": 0,
              "ticks": ""
             }
            },
            "type": "scatterpolar"
           }
          ],
          "scatterpolargl": [
           {
            "marker": {
             "colorbar": {
              "outlinewidth": 0,
              "ticks": ""
             }
            },
            "type": "scatterpolargl"
           }
          ],
          "scatterternary": [
           {
            "marker": {
             "colorbar": {
              "outlinewidth": 0,
              "ticks": ""
             }
            },
            "type": "scatterternary"
           }
          ],
          "surface": [
           {
            "colorbar": {
             "outlinewidth": 0,
             "ticks": ""
            },
            "colorscale": [
             [
              0,
              "#0d0887"
             ],
             [
              0.1111111111111111,
              "#46039f"
             ],
             [
              0.2222222222222222,
              "#7201a8"
             ],
             [
              0.3333333333333333,
              "#9c179e"
             ],
             [
              0.4444444444444444,
              "#bd3786"
             ],
             [
              0.5555555555555556,
              "#d8576b"
             ],
             [
              0.6666666666666666,
              "#ed7953"
             ],
             [
              0.7777777777777778,
              "#fb9f3a"
             ],
             [
              0.8888888888888888,
              "#fdca26"
             ],
             [
              1,
              "#f0f921"
             ]
            ],
            "type": "surface"
           }
          ],
          "table": [
           {
            "cells": {
             "fill": {
              "color": "#EBF0F8"
             },
             "line": {
              "color": "white"
             }
            },
            "header": {
             "fill": {
              "color": "#C8D4E3"
             },
             "line": {
              "color": "white"
             }
            },
            "type": "table"
           }
          ]
         },
         "layout": {
          "annotationdefaults": {
           "arrowcolor": "#2a3f5f",
           "arrowhead": 0,
           "arrowwidth": 1
          },
          "autotypenumbers": "strict",
          "coloraxis": {
           "colorbar": {
            "outlinewidth": 0,
            "ticks": ""
           }
          },
          "colorscale": {
           "diverging": [
            [
             0,
             "#8e0152"
            ],
            [
             0.1,
             "#c51b7d"
            ],
            [
             0.2,
             "#de77ae"
            ],
            [
             0.3,
             "#f1b6da"
            ],
            [
             0.4,
             "#fde0ef"
            ],
            [
             0.5,
             "#f7f7f7"
            ],
            [
             0.6,
             "#e6f5d0"
            ],
            [
             0.7,
             "#b8e186"
            ],
            [
             0.8,
             "#7fbc41"
            ],
            [
             0.9,
             "#4d9221"
            ],
            [
             1,
             "#276419"
            ]
           ],
           "sequential": [
            [
             0,
             "#0d0887"
            ],
            [
             0.1111111111111111,
             "#46039f"
            ],
            [
             0.2222222222222222,
             "#7201a8"
            ],
            [
             0.3333333333333333,
             "#9c179e"
            ],
            [
             0.4444444444444444,
             "#bd3786"
            ],
            [
             0.5555555555555556,
             "#d8576b"
            ],
            [
             0.6666666666666666,
             "#ed7953"
            ],
            [
             0.7777777777777778,
             "#fb9f3a"
            ],
            [
             0.8888888888888888,
             "#fdca26"
            ],
            [
             1,
             "#f0f921"
            ]
           ],
           "sequentialminus": [
            [
             0,
             "#0d0887"
            ],
            [
             0.1111111111111111,
             "#46039f"
            ],
            [
             0.2222222222222222,
             "#7201a8"
            ],
            [
             0.3333333333333333,
             "#9c179e"
            ],
            [
             0.4444444444444444,
             "#bd3786"
            ],
            [
             0.5555555555555556,
             "#d8576b"
            ],
            [
             0.6666666666666666,
             "#ed7953"
            ],
            [
             0.7777777777777778,
             "#fb9f3a"
            ],
            [
             0.8888888888888888,
             "#fdca26"
            ],
            [
             1,
             "#f0f921"
            ]
           ]
          },
          "colorway": [
           "#636efa",
           "#EF553B",
           "#00cc96",
           "#ab63fa",
           "#FFA15A",
           "#19d3f3",
           "#FF6692",
           "#B6E880",
           "#FF97FF",
           "#FECB52"
          ],
          "font": {
           "color": "#2a3f5f"
          },
          "geo": {
           "bgcolor": "white",
           "lakecolor": "white",
           "landcolor": "#E5ECF6",
           "showlakes": true,
           "showland": true,
           "subunitcolor": "white"
          },
          "hoverlabel": {
           "align": "left"
          },
          "hovermode": "closest",
          "mapbox": {
           "style": "light"
          },
          "paper_bgcolor": "white",
          "plot_bgcolor": "#E5ECF6",
          "polar": {
           "angularaxis": {
            "gridcolor": "white",
            "linecolor": "white",
            "ticks": ""
           },
           "bgcolor": "#E5ECF6",
           "radialaxis": {
            "gridcolor": "white",
            "linecolor": "white",
            "ticks": ""
           }
          },
          "scene": {
           "xaxis": {
            "backgroundcolor": "#E5ECF6",
            "gridcolor": "white",
            "gridwidth": 2,
            "linecolor": "white",
            "showbackground": true,
            "ticks": "",
            "zerolinecolor": "white"
           },
           "yaxis": {
            "backgroundcolor": "#E5ECF6",
            "gridcolor": "white",
            "gridwidth": 2,
            "linecolor": "white",
            "showbackground": true,
            "ticks": "",
            "zerolinecolor": "white"
           },
           "zaxis": {
            "backgroundcolor": "#E5ECF6",
            "gridcolor": "white",
            "gridwidth": 2,
            "linecolor": "white",
            "showbackground": true,
            "ticks": "",
            "zerolinecolor": "white"
           }
          },
          "shapedefaults": {
           "line": {
            "color": "#2a3f5f"
           }
          },
          "ternary": {
           "aaxis": {
            "gridcolor": "white",
            "linecolor": "white",
            "ticks": ""
           },
           "baxis": {
            "gridcolor": "white",
            "linecolor": "white",
            "ticks": ""
           },
           "bgcolor": "#E5ECF6",
           "caxis": {
            "gridcolor": "white",
            "linecolor": "white",
            "ticks": ""
           }
          },
          "title": {
           "x": 0.05
          },
          "xaxis": {
           "automargin": true,
           "gridcolor": "white",
           "linecolor": "white",
           "ticks": "",
           "title": {
            "standoff": 15
           },
           "zerolinecolor": "white",
           "zerolinewidth": 2
          },
          "yaxis": {
           "automargin": true,
           "gridcolor": "white",
           "linecolor": "white",
           "ticks": "",
           "title": {
            "standoff": 15
           },
           "zerolinecolor": "white",
           "zerolinewidth": 2
          }
         }
        },
        "title": {
         "text": "📈 Entradas e Saídas com SL=1.0%, TP=2.0%"
        },
        "xaxis": {
         "rangeslider": {
          "visible": false
         },
         "title": {
          "text": "Data"
         }
        },
        "yaxis": {
         "title": {
          "text": "Preço"
         }
        }
       }
      }
     },
     "metadata": {},
     "output_type": "display_data"
    }
   ],
   "source": [
    "fig = go.Figure()\n",
    "fig.add_trace(go.Candlestick(\n",
    "    x=df_test.index,\n",
    "    open=df_test['open'], high=df_test['high'],\n",
    "    low=df_test['low'], close=df_test['close'],\n",
    "    name='Candlestick'\n",
    "))\n",
    "\n",
    "# Marcar compras\n",
    "for entrada in entradas:\n",
    "    fig.add_annotation(x=entrada[0], y=entrada[1],\n",
    "        showarrow=True, arrowhead=3, arrowsize=1,\n",
    "        arrowwidth=2, arrowcolor='green', text='🟢 Compra')\n",
    "\n",
    "# Marcar saídas com SL ou TP\n",
    "for saida, tipo in zip(saidas, tipos_saida):\n",
    "    cor = 'red' if tipo == 'SL' else 'blue' if tipo == 'TP' else 'gray'\n",
    "    emoji = '🔻 SL' if tipo == 'SL' else '🔺 TP' if tipo == 'TP' else '⏹️'\n",
    "    fig.add_annotation(x=saida[0], y=saida[1],\n",
    "        showarrow=True, arrowhead=2, arrowsize=1,\n",
    "        arrowwidth=2, arrowcolor=cor, text=emoji)\n",
    "\n",
    "fig.update_layout(\n",
    "    title=f'📈 Entradas e Saídas com SL={stop_loss*100:.1f}%, TP={take_profit*100:.1f}%',\n",
    "    xaxis_title='Data', yaxis_title='Preço',\n",
    "    xaxis_rangeslider_visible=False, height=700\n",
    ")\n",
    "fig.show()"
   ]
  },
  {
   "cell_type": "code",
   "execution_count": 50,
   "id": "ad9d22d3",
   "metadata": {},
   "outputs": [
    {
     "name": "stdout",
     "output_type": "stream",
     "text": [
      "📊 Retorno médio por tipo de saída:\n"
     ]
    },
    {
     "data": {
      "text/html": [
       "<div>\n",
       "<style scoped>\n",
       "    .dataframe tbody tr th:only-of-type {\n",
       "        vertical-align: middle;\n",
       "    }\n",
       "\n",
       "    .dataframe tbody tr th {\n",
       "        vertical-align: top;\n",
       "    }\n",
       "\n",
       "    .dataframe thead th {\n",
       "        text-align: right;\n",
       "    }\n",
       "</style>\n",
       "<table border=\"1\" class=\"dataframe\">\n",
       "  <thead>\n",
       "    <tr style=\"text-align: right;\">\n",
       "      <th></th>\n",
       "      <th>count</th>\n",
       "      <th>mean</th>\n",
       "      <th>std</th>\n",
       "      <th>min</th>\n",
       "      <th>max</th>\n",
       "    </tr>\n",
       "    <tr>\n",
       "      <th>tipo_saida</th>\n",
       "      <th></th>\n",
       "      <th></th>\n",
       "      <th></th>\n",
       "      <th></th>\n",
       "      <th></th>\n",
       "    </tr>\n",
       "  </thead>\n",
       "  <tbody>\n",
       "    <tr>\n",
       "      <th>Neutra</th>\n",
       "      <td>12</td>\n",
       "      <td>0.0</td>\n",
       "      <td>0.0</td>\n",
       "      <td>0</td>\n",
       "      <td>0</td>\n",
       "    </tr>\n",
       "  </tbody>\n",
       "</table>\n",
       "</div>"
      ],
      "text/plain": [
       "            count  mean  std  min  max\n",
       "tipo_saida                            \n",
       "Neutra         12   0.0  0.0    0    0"
      ]
     },
     "metadata": {},
     "output_type": "display_data"
    }
   ],
   "source": [
    "# 📈 Análise do retorno médio por tipo de saída\n",
    "\n",
    "# Criar DataFrame com os dados das operações\n",
    "df_resultados = pd.DataFrame({\n",
    "    'retorno': retornos[:len(tipos_saida)],  # garantir tamanho correto\n",
    "    'tipo_saida': tipos_saida\n",
    "})\n",
    "\n",
    "# Calcular estatísticas\n",
    "resumo = df_resultados.groupby(\"tipo_saida\")[\"retorno\"].agg([\"count\", \"mean\", \"std\", \"min\", \"max\"])\n",
    "resumo = resumo.sort_values(by=\"mean\", ascending=False)\n",
    "\n",
    "# Exibir resultados\n",
    "print(\"📊 Retorno médio por tipo de saída:\")\n",
    "display(resumo)\n"
   ]
  },
  {
   "cell_type": "code",
   "execution_count": 51,
   "id": "a0ac0c6d",
   "metadata": {},
   "outputs": [],
   "source": [
    "# Melhorar o modelo preditivo com mais features e otimização de hiperparâmetros\n",
    "from sklearn.model_selection import GridSearchCV\n",
    "from sklearn.preprocessing import StandardScaler\n",
    "\n",
    "# 1. Adicionar mais features técnicas\n",
    "df['atr'] = df['high'] - df['low']  # Average True Range simplificado\n",
    "df['volume_change'] = df['volume'].pct_change()\n",
    "df['price_change'] = df['close'].pct_change()\n",
    "df['volatility'] = df['close'].rolling(10).std()\n",
    "df['momentum'] = df['close'] - df['close'].shift(5)\n",
    "\n",
    "# 2. Criar features temporais\n",
    "df['hour'] = df.index.hour\n",
    "df['day_of_week'] = df.index.dayofweek\n",
    "\n",
    "# 3. Normalizar os dados\n",
    "features_extended = features + ['atr', 'volume_change', 'price_change', 'volatility',\n",
    "                               'momentum', 'hour', 'day_of_week']\n",
    "X = df[features_extended].copy()\n",
    "scaler = StandardScaler()\n",
    "X_scaled = scaler.fit_transform(X.fillna(0))\n",
    "X_scaled_df = pd.DataFrame(X_scaled, columns=features_extended, index=df.index)\n",
    "\n",
    "# 4. Otimizar hiperparâmetros\n",
    "param_grid = {\n",
    "    'n_estimators': [100, 200, 300],\n",
    "    'max_depth': [None, 10, 20, 30],\n",
    "    'min_samples_split': [2, 5, 10],\n",
    "    'min_samples_leaf': [1, 2, 4]\n",
    "}\n",
    "\n",
    "grid_search = GridSearchCV(\n",
    "    RandomForestClassifier(random_state=42, class_weight='balanced'),\n",
    "    param_grid=param_grid,\n",
    "    cv=5,\n",
    "    scoring='f1',\n",
    "    n_jobs=-1\n",
    ")\n",
    "\n",
    "grid_search.fit(X_res, y_res)\n",
    "modelo_otimizado = grid_search.best_estimator_"
   ]
  },
  {
   "cell_type": "code",
   "execution_count": 54,
   "id": "326fead5",
   "metadata": {},
   "outputs": [],
   "source": [
    "def aplicar_filtros_mercado(df):\n",
    "    # Evita alteração no DataFrame original\n",
    "    df = df.copy()\n",
    "\n",
    "    # Filtro de tendência\n",
    "    df['sma_50'] = df['close'].rolling(50).mean()\n",
    "    df['tendencia'] = df['close'] > df['sma_50']\n",
    "\n",
    "    # Filtro de volatilidade: calcula se a volatilidade atual é maior que a média * 1.5\n",
    "    df['atr'] = ta.volatility.AverageTrueRange(df['high'], df['low'], df['close']).average_true_range()\n",
    "    df['volatilidade_alta'] = df['atr'] > df['atr'].rolling(20).mean() * 1.5\n",
    "\n",
    "    # Filtro de volume\n",
    "    df['volume_adequado'] = df['volume'] > df['volume'].rolling(20).mean() * 0.7\n",
    "\n",
    "    # Filtro de horário (10h às 16h)\n",
    "    if \"Datetime\" in df.columns:\n",
    "        df[\"hora\"] = pd.to_datetime(df[\"Datetime\"]).dt.hour\n",
    "    else:\n",
    "        df[\"hora\"] = df.index.hour\n",
    "    df[\"horario_favoravel\"] = df[\"hora\"].between(10, 16)\n",
    "\n",
    "    # Combinar filtros\n",
    "    df[\"filtros_ok\"] = (\n",
    "        df[\"tendencia\"] &\n",
    "        ~df[\"volatilidade_alta\"] &\n",
    "        df[\"volume_adequado\"] &\n",
    "        df[\"horario_favoravel\"]\n",
    "    )\n",
    "\n",
    "    return df\n",
    "\n",
    "df_test = aplicar_filtros_mercado(df)"
   ]
  },
  {
   "cell_type": "code",
   "execution_count": 55,
   "id": "2abe2a30",
   "metadata": {},
   "outputs": [
    {
     "ename": "KeyError",
     "evalue": "'sinal_compra'",
     "output_type": "error",
     "traceback": [
      "\u001b[31m---------------------------------------------------------------------------\u001b[39m",
      "\u001b[31mKeyError\u001b[39m                                  Traceback (most recent call last)",
      "\u001b[36mFile \u001b[39m\u001b[32md:\\2025-Projects\\meu_analisador\\env\\Lib\\site-packages\\pandas\\core\\indexes\\base.py:3805\u001b[39m, in \u001b[36mIndex.get_loc\u001b[39m\u001b[34m(self, key)\u001b[39m\n\u001b[32m   3804\u001b[39m \u001b[38;5;28;01mtry\u001b[39;00m:\n\u001b[32m-> \u001b[39m\u001b[32m3805\u001b[39m     \u001b[38;5;28;01mreturn\u001b[39;00m \u001b[38;5;28;43mself\u001b[39;49m\u001b[43m.\u001b[49m\u001b[43m_engine\u001b[49m\u001b[43m.\u001b[49m\u001b[43mget_loc\u001b[49m\u001b[43m(\u001b[49m\u001b[43mcasted_key\u001b[49m\u001b[43m)\u001b[49m\n\u001b[32m   3806\u001b[39m \u001b[38;5;28;01mexcept\u001b[39;00m \u001b[38;5;167;01mKeyError\u001b[39;00m \u001b[38;5;28;01mas\u001b[39;00m err:\n",
      "\u001b[36mFile \u001b[39m\u001b[32mindex.pyx:167\u001b[39m, in \u001b[36mpandas._libs.index.IndexEngine.get_loc\u001b[39m\u001b[34m()\u001b[39m\n",
      "\u001b[36mFile \u001b[39m\u001b[32mindex.pyx:196\u001b[39m, in \u001b[36mpandas._libs.index.IndexEngine.get_loc\u001b[39m\u001b[34m()\u001b[39m\n",
      "\u001b[36mFile \u001b[39m\u001b[32mpandas\\\\_libs\\\\hashtable_class_helper.pxi:7081\u001b[39m, in \u001b[36mpandas._libs.hashtable.PyObjectHashTable.get_item\u001b[39m\u001b[34m()\u001b[39m\n",
      "\u001b[36mFile \u001b[39m\u001b[32mpandas\\\\_libs\\\\hashtable_class_helper.pxi:7089\u001b[39m, in \u001b[36mpandas._libs.hashtable.PyObjectHashTable.get_item\u001b[39m\u001b[34m()\u001b[39m\n",
      "\u001b[31mKeyError\u001b[39m: 'sinal_compra'",
      "\nThe above exception was the direct cause of the following exception:\n",
      "\u001b[31mKeyError\u001b[39m                                  Traceback (most recent call last)",
      "\u001b[36mCell\u001b[39m\u001b[36m \u001b[39m\u001b[32mIn[55]\u001b[39m\u001b[32m, line 64\u001b[39m\n\u001b[32m     60\u001b[39m             retornos.append(\u001b[32m0\u001b[39m)\n\u001b[32m     62\u001b[39m     \u001b[38;5;28;01mreturn\u001b[39;00m retornos, entradas, saidas, tipos_saida\n\u001b[32m---> \u001b[39m\u001b[32m64\u001b[39m retornos, entradas, saidas, tipos_saida = \u001b[43mbacktest_avancado\u001b[49m\u001b[43m(\u001b[49m\u001b[43mdf_test\u001b[49m\u001b[43m)\u001b[49m\n",
      "\u001b[36mCell\u001b[39m\u001b[36m \u001b[39m\u001b[32mIn[55]\u001b[39m\u001b[32m, line 16\u001b[39m, in \u001b[36mbacktest_avancado\u001b[39m\u001b[34m(df_test, stop_loss, take_profit, trailing_stop)\u001b[39m\n\u001b[32m     13\u001b[39m     \u001b[38;5;28;01mcontinue\u001b[39;00m\n\u001b[32m     15\u001b[39m \u001b[38;5;66;03m# Verificar sinal de entrada com filtros adicionais\u001b[39;00m\n\u001b[32m---> \u001b[39m\u001b[32m16\u001b[39m \u001b[38;5;28;01mif\u001b[39;00m (\u001b[43mdf_test\u001b[49m\u001b[43m[\u001b[49m\u001b[33;43m'\u001b[39;49m\u001b[33;43msinal_compra\u001b[39;49m\u001b[33;43m'\u001b[39;49m\u001b[43m]\u001b[49m.iloc[i] == \u001b[32m1\u001b[39m \u001b[38;5;129;01mand\u001b[39;00m\n\u001b[32m     17\u001b[39m     df_test[\u001b[33m'\u001b[39m\u001b[33mfiltros_ok\u001b[39m\u001b[33m'\u001b[39m].iloc[i] \u001b[38;5;129;01mand\u001b[39;00m\n\u001b[32m     18\u001b[39m     df_test[\u001b[33m'\u001b[39m\u001b[33mproba_alta\u001b[39m\u001b[33m'\u001b[39m].iloc[i] > \u001b[32m0.75\u001b[39m):  \u001b[38;5;66;03m# Aumentar confiança mínima\u001b[39;00m\n\u001b[32m     20\u001b[39m     preco_entrada = df_test[\u001b[33m'\u001b[39m\u001b[33mclose\u001b[39m\u001b[33m'\u001b[39m].iloc[i]\n\u001b[32m     21\u001b[39m     preco_alvo = preco_entrada * (\u001b[32m1\u001b[39m + take_profit)\n",
      "\u001b[36mFile \u001b[39m\u001b[32md:\\2025-Projects\\meu_analisador\\env\\Lib\\site-packages\\pandas\\core\\frame.py:4102\u001b[39m, in \u001b[36mDataFrame.__getitem__\u001b[39m\u001b[34m(self, key)\u001b[39m\n\u001b[32m   4100\u001b[39m \u001b[38;5;28;01mif\u001b[39;00m \u001b[38;5;28mself\u001b[39m.columns.nlevels > \u001b[32m1\u001b[39m:\n\u001b[32m   4101\u001b[39m     \u001b[38;5;28;01mreturn\u001b[39;00m \u001b[38;5;28mself\u001b[39m._getitem_multilevel(key)\n\u001b[32m-> \u001b[39m\u001b[32m4102\u001b[39m indexer = \u001b[38;5;28;43mself\u001b[39;49m\u001b[43m.\u001b[49m\u001b[43mcolumns\u001b[49m\u001b[43m.\u001b[49m\u001b[43mget_loc\u001b[49m\u001b[43m(\u001b[49m\u001b[43mkey\u001b[49m\u001b[43m)\u001b[49m\n\u001b[32m   4103\u001b[39m \u001b[38;5;28;01mif\u001b[39;00m is_integer(indexer):\n\u001b[32m   4104\u001b[39m     indexer = [indexer]\n",
      "\u001b[36mFile \u001b[39m\u001b[32md:\\2025-Projects\\meu_analisador\\env\\Lib\\site-packages\\pandas\\core\\indexes\\base.py:3812\u001b[39m, in \u001b[36mIndex.get_loc\u001b[39m\u001b[34m(self, key)\u001b[39m\n\u001b[32m   3807\u001b[39m     \u001b[38;5;28;01mif\u001b[39;00m \u001b[38;5;28misinstance\u001b[39m(casted_key, \u001b[38;5;28mslice\u001b[39m) \u001b[38;5;129;01mor\u001b[39;00m (\n\u001b[32m   3808\u001b[39m         \u001b[38;5;28misinstance\u001b[39m(casted_key, abc.Iterable)\n\u001b[32m   3809\u001b[39m         \u001b[38;5;129;01mand\u001b[39;00m \u001b[38;5;28many\u001b[39m(\u001b[38;5;28misinstance\u001b[39m(x, \u001b[38;5;28mslice\u001b[39m) \u001b[38;5;28;01mfor\u001b[39;00m x \u001b[38;5;129;01min\u001b[39;00m casted_key)\n\u001b[32m   3810\u001b[39m     ):\n\u001b[32m   3811\u001b[39m         \u001b[38;5;28;01mraise\u001b[39;00m InvalidIndexError(key)\n\u001b[32m-> \u001b[39m\u001b[32m3812\u001b[39m     \u001b[38;5;28;01mraise\u001b[39;00m \u001b[38;5;167;01mKeyError\u001b[39;00m(key) \u001b[38;5;28;01mfrom\u001b[39;00m\u001b[38;5;250m \u001b[39m\u001b[34;01merr\u001b[39;00m\n\u001b[32m   3813\u001b[39m \u001b[38;5;28;01mexcept\u001b[39;00m \u001b[38;5;167;01mTypeError\u001b[39;00m:\n\u001b[32m   3814\u001b[39m     \u001b[38;5;66;03m# If we have a listlike key, _check_indexing_error will raise\u001b[39;00m\n\u001b[32m   3815\u001b[39m     \u001b[38;5;66;03m#  InvalidIndexError. Otherwise we fall through and re-raise\u001b[39;00m\n\u001b[32m   3816\u001b[39m     \u001b[38;5;66;03m#  the TypeError.\u001b[39;00m\n\u001b[32m   3817\u001b[39m     \u001b[38;5;28mself\u001b[39m._check_indexing_error(key)\n",
      "\u001b[31mKeyError\u001b[39m: 'sinal_compra'"
     ]
    }
   ],
   "source": [
    "# Estratégia de entrada e saída mais sofisticada\n",
    "def backtest_avancado(df_test, stop_loss=0.01, take_profit=0.02, trailing_stop=True):\n",
    "    capital = 10000\n",
    "    retornos = []\n",
    "    entradas = []\n",
    "    saidas = []\n",
    "    tipos_saida = []\n",
    "    posicao_aberta = False\n",
    "\n",
    "    for i in range(len(df_test) - 5):\n",
    "        # Verificar se já existe posição aberta\n",
    "        if posicao_aberta:\n",
    "            continue\n",
    "\n",
    "        # Verificar sinal de entrada com filtros adicionais\n",
    "        if (df_test['sinal_compra'].iloc[i] == 1 and\n",
    "            df_test['filtros_ok'].iloc[i] and\n",
    "            df_test['proba_alta'].iloc[i] > 0.75):  # Aumentar confiança mínima\n",
    "\n",
    "            preco_entrada = df_test['close'].iloc[i]\n",
    "            preco_alvo = preco_entrada * (1 + take_profit)\n",
    "            preco_stop = preco_entrada * (1 - stop_loss)\n",
    "            stop_atual = preco_stop  # Para trailing stop\n",
    "\n",
    "            # Monitorar a posição por até 10 candles\n",
    "            for j in range(1, min(10, len(df_test) - i)):\n",
    "                preco_atual = df_test['close'].iloc[i + j]\n",
    "\n",
    "                # Atualizar trailing stop se ativado\n",
    "                if trailing_stop and preco_atual > preco_entrada:\n",
    "                    novo_stop = preco_entrada + (preco_atual - preco_entrada) * 0.5\n",
    "                    if novo_stop > stop_atual:\n",
    "                        stop_atual = novo_stop\n",
    "\n",
    "                # Verificar condições de saída\n",
    "                if preco_atual >= preco_alvo:\n",
    "                    saida = preco_atual\n",
    "                    tipo_saida = 'TP'\n",
    "                    posicao_aberta = False\n",
    "                    break\n",
    "                elif preco_atual <= stop_atual:\n",
    "                    saida = preco_atual\n",
    "                    tipo_saida = 'SL' if stop_atual == preco_stop else 'TS'  # TS = Trailing Stop\n",
    "                    posicao_aberta = False\n",
    "                    break\n",
    "\n",
    "                # Saída por tempo (se chegar ao último candle monitorado)\n",
    "                if j == min(10, len(df_test) - i) - 1:\n",
    "                    saida = preco_atual\n",
    "                    tipo_saida = 'Tempo'\n",
    "                    posicao_aberta = False\n",
    "\n",
    "            # Calcular retorno e registrar operação\n",
    "            retorno = (saida - preco_entrada) / preco_entrada\n",
    "            entradas.append((df_test.index[i], df_test['low'].iloc[i] * 0.995))\n",
    "            saidas.append((df_test.index[i + j], df_test['high'].iloc[i + j] * 1.002))\n",
    "            tipos_saida.append(tipo_saida)\n",
    "            retornos.append(retorno)\n",
    "        else:\n",
    "            retornos.append(0)\n",
    "\n",
    "    return retornos, entradas, saidas, tipos_saida\n",
    "\n",
    "retornos, entradas, saidas, tipos_saida = backtest_avancado(df_test)"
   ]
  },
  {
   "cell_type": "code",
   "execution_count": 29,
   "id": "404740cc",
   "metadata": {},
   "outputs": [],
   "source": [
    "# Implementar gestão de risco e capital\n",
    "def calcular_tamanho_posicao(capital, risco_por_trade=0.02, stop_loss=0.01):\n",
    "    \"\"\"Calcula o tamanho da posição baseado no risco por trade\"\"\"\n",
    "    valor_risco = capital * risco_por_trade\n",
    "    tamanho_posicao = valor_risco / stop_loss\n",
    "    return min(tamanho_posicao, capital * 0.2)  # Limitar a 20% do capital\n",
    "\n",
    "def analisar_desempenho(retornos, tipos_saida):\n",
    "    \"\"\"Analisa o desempenho da estratégia\"\"\"\n",
    "    df_resultados = pd.DataFrame({\n",
    "        'retorno': retornos,\n",
    "        'tipo_saida': tipos_saida\n",
    "    })\n",
    "\n",
    "    # Métricas gerais\n",
    "    total_trades = len([r for r in retornos if r != 0])\n",
    "    trades_ganhos = len([r for r in retornos if r > 0])\n",
    "    trades_perdas = len([r for r in retornos if r < 0])\n",
    "\n",
    "    if total_trades > 0:\n",
    "        win_rate = trades_ganhos / total_trades\n",
    "        avg_gain = np.mean([r for r in retornos if r > 0]) if trades_ganhos > 0 else 0\n",
    "        avg_loss = np.mean([r for r in retornos if r < 0]) if trades_perdas > 0 else 0\n",
    "        profit_factor = abs(sum([r for r in retornos if r > 0]) / sum([r for r in retornos if r < 0])) if sum([r for r in retornos if r < 0]) != 0 else float('inf')\n",
    "\n",
    "        # Drawdown\n",
    "        capital_acumulado = [10000]\n",
    "        for r in retornos:\n",
    "            if r != 0:  # Apenas considerar trades reais\n",
    "                capital_acumulado.append(capital_acumulado[-1] * (1 + r))\n",
    "\n",
    "        peak = capital_acumulado[0]\n",
    "        max_drawdown = 0\n",
    "        for capital in capital_acumulado:\n",
    "            if capital > peak:\n",
    "                peak = capital\n",
    "            drawdown = (peak - capital) / peak\n",
    "            max_drawdown = max(max_drawdown, drawdown)\n",
    "\n",
    "        return {\n",
    "            'total_trades': total_trades,\n",
    "            'win_rate': win_rate,\n",
    "            'avg_gain': avg_gain,\n",
    "            'avg_loss': avg_loss,\n",
    "            'profit_factor': profit_factor,\n",
    "            'max_drawdown': max_drawdown,\n",
    "            'expectancy': (win_rate * avg_gain) - ((1 - win_rate) * abs(avg_loss))\n",
    "        }\n",
    "    else:\n",
    "        return {'total_trades': 0}"
   ]
  },
  {
   "cell_type": "code",
   "execution_count": 18,
   "id": "bb946bb0",
   "metadata": {},
   "outputs": [],
   "source": [
    "# Validação cruzada temporal para evitar overfitting\n",
    "from sklearn.model_selection import TimeSeriesSplit\n",
    "\n",
    "def validacao_cruzada_temporal(df, features, target, n_splits=5):\n",
    "    tscv = TimeSeriesSplit(n_splits=n_splits)\n",
    "    resultados = []\n",
    "\n",
    "    for train_index, test_index in tscv.split(df):\n",
    "        df_train, df_test = df.iloc[train_index], df.iloc[test_index]\n",
    "\n",
    "        X_train = df_train[features]\n",
    "        y_train = df_train[target]\n",
    "        X_test = df_test[features]\n",
    "        y_test = df_test[target]\n",
    "\n",
    "        # Balancear dados\n",
    "        sm = SMOTE(random_state=42)\n",
    "        X_res, y_res = sm.fit_resample(X_train, y_train)\n",
    "\n",
    "        # Treinar modelo\n",
    "        modelo = RandomForestClassifier(n_estimators=100, class_weight='balanced', random_state=42)\n",
    "        modelo.fit(X_res, y_res)\n",
    "\n",
    "        # Fazer previsões\n",
    "        probs = modelo.predict_proba(X_test)[:, 1]\n",
    "        df_test_copy = df_test.copy()\n",
    "        df_test_copy['proba_alta'] = probs\n",
    "        df_test_copy['sinal_compra'] = (df_test_copy['proba_alta'] > 0.7).astype(int)\n",
    "\n",
    "        # Aplicar filtros e backtest\n",
    "        df_test_copy = aplicar_filtros_mercado(df_test_copy)\n",
    "        retornos, _, _, _ = backtest_avancado(df_test_copy)\n",
    "\n",
    "        # Analisar resultados\n",
    "        resultados.append(sum(retornos))\n",
    "\n",
    "    return resultados"
   ]
  }
 ],
 "metadata": {
  "kernelspec": {
   "display_name": "env",
   "language": "python",
   "name": "python3"
  },
  "language_info": {
   "codemirror_mode": {
    "name": "ipython",
    "version": 3
   },
   "file_extension": ".py",
   "mimetype": "text/x-python",
   "name": "python",
   "nbconvert_exporter": "python",
   "pygments_lexer": "ipython3",
   "version": "3.12.3"
  }
 },
 "nbformat": 4,
 "nbformat_minor": 5
}
