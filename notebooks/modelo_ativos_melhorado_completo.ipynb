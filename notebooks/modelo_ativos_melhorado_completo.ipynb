{
 "cells": [
  {
   "cell_type": "markdown",
   "id": "38ee3291",
   "metadata": {},
   "source": [
    "# 🚀 Melhoria Avançada de Modelos para Previsão de Ativos\n",
    "Neste notebook, vamos:\n",
    "- Adicionar novas features ao dataset\n",
    "- Criar um target com zona neutra para evitar ruído\n",
    "- Treinar modelos RandomForest e XGBoost com mais profundidade\n",
    "- Ajustar e empilhar camadas LSTM\n",
    "- Comparar métricas de forma equilibrada"
   ]
  },
  {
   "cell_type": "code",
   "execution_count": 1,
   "id": "89dc02ff",
   "metadata": {},
   "outputs": [],
   "source": [
    "import pandas as pd\n",
    "import numpy as np\n",
    "from sklearn.model_selection import train_test_split\n",
    "from sklearn.preprocessing import MinMaxScaler\n",
    "from sklearn.ensemble import RandomForestClassifier\n",
    "from xgboost import XGBClassifier\n",
    "from sklearn.metrics import classification_report, confusion_matrix\n",
    "from imblearn.over_sampling import SMOTE\n",
    "import matplotlib.pyplot as plt\n",
    "plt.style.use('ggplot')"
   ]
  },
  {
   "cell_type": "code",
   "execution_count": 2,
   "id": "7e011842",
   "metadata": {},
   "outputs": [],
   "source": [
    "ticker = 'AAPL'\n",
    "df = pd.read_csv(f'../data/{ticker}_ativo_com_indicadores.csv')\n",
    "df['Datetime'] = pd.to_datetime(df['Datetime'])\n",
    "df.set_index('Datetime', inplace=True)\n",
    "df.dropna(inplace=True)"
   ]
  },
  {
   "cell_type": "code",
   "execution_count": 3,
   "id": "675161cb",
   "metadata": {},
   "outputs": [],
   "source": [
    "# Novas features\n",
    "df['returns'] = df['close'].pct_change()\n",
    "df['returns_lag_3'] = df['returns'].shift(3)\n",
    "df['returns_lag_5'] = df['returns'].shift(5)\n",
    "df['price_diff'] = df['close'] - df['open']\n",
    "df['vol_rolling'] = df['volume'].rolling(window=10).mean()\n",
    "df.dropna(inplace=True)"
   ]
  },
  {
   "cell_type": "code",
   "execution_count": 4,
   "id": "852ccdd1",
   "metadata": {},
   "outputs": [],
   "source": [
    "# Target com zona neutra\n",
    "df['target'] = df['close'].shift(-3)\n",
    "df['target_class'] = np.where(df['target'] > df['close'] * 1.002, 1,\n",
    "                         np.where(df['target'] < df['close'] * 0.998, 0, -1))\n",
    "df = df[df['target_class'] != -1]"
   ]
  },
  {
   "cell_type": "code",
   "execution_count": 5,
   "id": "c863516b",
   "metadata": {},
   "outputs": [],
   "source": [
    "# Separar features e target\n",
    "features = ['open', 'high', 'low', 'close', 'volume', 'rsi', 'macd', 'macd_signal',\n",
    "            'sma_20', 'ema_20', 'bb_upper', 'bb_lower',\n",
    "            'returns', 'returns_lag_3', 'returns_lag_5', 'price_diff', 'vol_rolling']\n",
    "X = df[features]\n",
    "y = df['target_class']\n",
    "X_train, X_test, y_train, y_test = train_test_split(X, y, shuffle=False, test_size=0.2)"
   ]
  },
  {
   "cell_type": "code",
   "execution_count": 6,
   "id": "a3e42b54",
   "metadata": {},
   "outputs": [
    {
     "name": "stdout",
     "output_type": "stream",
     "text": [
      "Distribuição após SMOTE: target_class\n",
      "1    380\n",
      "0    380\n",
      "Name: count, dtype: int64\n"
     ]
    }
   ],
   "source": [
    "sm = SMOTE(random_state=42)\n",
    "X_res, y_res = sm.fit_resample(X_train, y_train)\n",
    "print('Distribuição após SMOTE:', pd.Series(y_res).value_counts())"
   ]
  },
  {
   "cell_type": "code",
   "execution_count": 7,
   "id": "38854b35",
   "metadata": {},
   "outputs": [
    {
     "name": "stdout",
     "output_type": "stream",
     "text": [
      "🔍 RandomForest\n",
      "[[71 19]\n",
      " [66 30]]\n",
      "              precision    recall  f1-score   support\n",
      "\n",
      "           0       0.52      0.79      0.63        90\n",
      "           1       0.61      0.31      0.41        96\n",
      "\n",
      "    accuracy                           0.54       186\n",
      "   macro avg       0.57      0.55      0.52       186\n",
      "weighted avg       0.57      0.54      0.52       186\n",
      "\n"
     ]
    }
   ],
   "source": [
    "rf = RandomForestClassifier(n_estimators=200, class_weight='balanced', random_state=42)\n",
    "rf.fit(X_res, y_res)\n",
    "y_pred_rf = rf.predict(X_test)\n",
    "print('🔍 RandomForest')\n",
    "print(confusion_matrix(y_test, y_pred_rf))\n",
    "print(classification_report(y_test, y_pred_rf))"
   ]
  },
  {
   "cell_type": "code",
   "execution_count": 8,
   "id": "8d384205",
   "metadata": {},
   "outputs": [
    {
     "name": "stdout",
     "output_type": "stream",
     "text": [
      "🔍 XGBoost\n",
      "[[75 15]\n",
      " [68 28]]\n",
      "              precision    recall  f1-score   support\n",
      "\n",
      "           0       0.52      0.83      0.64        90\n",
      "           1       0.65      0.29      0.40        96\n",
      "\n",
      "    accuracy                           0.55       186\n",
      "   macro avg       0.59      0.56      0.52       186\n",
      "weighted avg       0.59      0.55      0.52       186\n",
      "\n"
     ]
    },
    {
     "name": "stderr",
     "output_type": "stream",
     "text": [
      "d:\\2025-Projects\\meu_analisador\\env\\Lib\\site-packages\\xgboost\\training.py:183: UserWarning: [13:50:02] WARNING: C:\\actions-runner\\_work\\xgboost\\xgboost\\src\\learner.cc:738: \n",
      "Parameters: { \"use_label_encoder\" } are not used.\n",
      "\n",
      "  bst.update(dtrain, iteration=i, fobj=obj)\n"
     ]
    }
   ],
   "source": [
    "xgb = XGBClassifier(n_estimators=200, max_depth=5, learning_rate=0.05,\n",
    "                    use_label_encoder=False, eval_metric='logloss')\n",
    "xgb.fit(X_res, y_res)\n",
    "y_pred_xgb = xgb.predict(X_test)\n",
    "print('🔍 XGBoost')\n",
    "print(confusion_matrix(y_test, y_pred_xgb))\n",
    "print(classification_report(y_test, y_pred_xgb))"
   ]
  },
  {
   "cell_type": "code",
   "execution_count": 9,
   "id": "8250e583",
   "metadata": {},
   "outputs": [],
   "source": [
    "# Preparar dados para LSTM\n",
    "scaler = MinMaxScaler()\n",
    "X_scaled = scaler.fit_transform(X)\n",
    "\n",
    "def create_sequences(X, y, window_size=10):\n",
    "    Xs, ys = [], []\n",
    "    for i in range(len(X) - window_size):\n",
    "        Xs.append(X[i:i+window_size])\n",
    "        ys.append(y[i+window_size])\n",
    "    return np.array(Xs), np.array(ys)\n",
    "\n",
    "X_seq, y_seq = create_sequences(X_scaled, y.values)"
   ]
  },
  {
   "cell_type": "code",
   "execution_count": 10,
   "id": "45d3c645",
   "metadata": {},
   "outputs": [
    {
     "name": "stderr",
     "output_type": "stream",
     "text": [
      "d:\\2025-Projects\\meu_analisador\\env\\Lib\\site-packages\\keras\\src\\layers\\rnn\\rnn.py:200: UserWarning: Do not pass an `input_shape`/`input_dim` argument to a layer. When using Sequential models, prefer using an `Input(shape)` object as the first layer in the model instead.\n",
      "  super().__init__(**kwargs)\n"
     ]
    },
    {
     "name": "stdout",
     "output_type": "stream",
     "text": [
      "Epoch 1/20\n",
      "\u001b[1m23/23\u001b[0m \u001b[32m━━━━━━━━━━━━━━━━━━━━\u001b[0m\u001b[37m\u001b[0m \u001b[1m6s\u001b[0m 15ms/step - accuracy: 0.5166 - loss: 0.6943 - val_accuracy: 0.5380 - val_loss: 0.6919\n",
      "Epoch 2/20\n",
      "\u001b[1m23/23\u001b[0m \u001b[32m━━━━━━━━━━━━━━━━━━━━\u001b[0m\u001b[37m\u001b[0m \u001b[1m0s\u001b[0m 5ms/step - accuracy: 0.5111 - loss: 0.6879 - val_accuracy: 0.5109 - val_loss: 0.6936\n",
      "Epoch 3/20\n",
      "\u001b[1m23/23\u001b[0m \u001b[32m━━━━━━━━━━━━━━━━━━━━\u001b[0m\u001b[37m\u001b[0m \u001b[1m0s\u001b[0m 5ms/step - accuracy: 0.5747 - loss: 0.6874 - val_accuracy: 0.5109 - val_loss: 0.6950\n",
      "Epoch 4/20\n",
      "\u001b[1m23/23\u001b[0m \u001b[32m━━━━━━━━━━━━━━━━━━━━\u001b[0m\u001b[37m\u001b[0m \u001b[1m0s\u001b[0m 5ms/step - accuracy: 0.5450 - loss: 0.6891 - val_accuracy: 0.5109 - val_loss: 0.6968\n",
      "Epoch 5/20\n",
      "\u001b[1m23/23\u001b[0m \u001b[32m━━━━━━━━━━━━━━━━━━━━\u001b[0m\u001b[37m\u001b[0m \u001b[1m0s\u001b[0m 5ms/step - accuracy: 0.5427 - loss: 0.6928 - val_accuracy: 0.5109 - val_loss: 0.6916\n",
      "Epoch 6/20\n",
      "\u001b[1m23/23\u001b[0m \u001b[32m━━━━━━━━━━━━━━━━━━━━\u001b[0m\u001b[37m\u001b[0m \u001b[1m0s\u001b[0m 5ms/step - accuracy: 0.5179 - loss: 0.6938 - val_accuracy: 0.5109 - val_loss: 0.6912\n",
      "Epoch 7/20\n",
      "\u001b[1m23/23\u001b[0m \u001b[32m━━━━━━━━━━━━━━━━━━━━\u001b[0m\u001b[37m\u001b[0m \u001b[1m0s\u001b[0m 5ms/step - accuracy: 0.5456 - loss: 0.6772 - val_accuracy: 0.5109 - val_loss: 0.6947\n",
      "Epoch 8/20\n",
      "\u001b[1m23/23\u001b[0m \u001b[32m━━━━━━━━━━━━━━━━━━━━\u001b[0m\u001b[37m\u001b[0m \u001b[1m0s\u001b[0m 5ms/step - accuracy: 0.5129 - loss: 0.6918 - val_accuracy: 0.5272 - val_loss: 0.6922\n",
      "Epoch 9/20\n",
      "\u001b[1m23/23\u001b[0m \u001b[32m━━━━━━━━━━━━━━━━━━━━\u001b[0m\u001b[37m\u001b[0m \u001b[1m0s\u001b[0m 5ms/step - accuracy: 0.5047 - loss: 0.6868 - val_accuracy: 0.5109 - val_loss: 0.6939\n",
      "Epoch 10/20\n",
      "\u001b[1m23/23\u001b[0m \u001b[32m━━━━━━━━━━━━━━━━━━━━\u001b[0m\u001b[37m\u001b[0m \u001b[1m0s\u001b[0m 5ms/step - accuracy: 0.5603 - loss: 0.6867 - val_accuracy: 0.5109 - val_loss: 0.6950\n",
      "Epoch 11/20\n",
      "\u001b[1m23/23\u001b[0m \u001b[32m━━━━━━━━━━━━━━━━━━━━\u001b[0m\u001b[37m\u001b[0m \u001b[1m0s\u001b[0m 5ms/step - accuracy: 0.5483 - loss: 0.6866 - val_accuracy: 0.5109 - val_loss: 0.6942\n",
      "Epoch 12/20\n",
      "\u001b[1m23/23\u001b[0m \u001b[32m━━━━━━━━━━━━━━━━━━━━\u001b[0m\u001b[37m\u001b[0m \u001b[1m0s\u001b[0m 5ms/step - accuracy: 0.4971 - loss: 0.6941 - val_accuracy: 0.5109 - val_loss: 0.6921\n",
      "Epoch 13/20\n",
      "\u001b[1m23/23\u001b[0m \u001b[32m━━━━━━━━━━━━━━━━━━━━\u001b[0m\u001b[37m\u001b[0m \u001b[1m0s\u001b[0m 5ms/step - accuracy: 0.5468 - loss: 0.6815 - val_accuracy: 0.5109 - val_loss: 0.6952\n",
      "Epoch 14/20\n",
      "\u001b[1m23/23\u001b[0m \u001b[32m━━━━━━━━━━━━━━━━━━━━\u001b[0m\u001b[37m\u001b[0m \u001b[1m0s\u001b[0m 5ms/step - accuracy: 0.5657 - loss: 0.6828 - val_accuracy: 0.5109 - val_loss: 0.6943\n",
      "Epoch 15/20\n",
      "\u001b[1m23/23\u001b[0m \u001b[32m━━━━━━━━━━━━━━━━━━━━\u001b[0m\u001b[37m\u001b[0m \u001b[1m0s\u001b[0m 5ms/step - accuracy: 0.5633 - loss: 0.6839 - val_accuracy: 0.5815 - val_loss: 0.6936\n",
      "Epoch 16/20\n",
      "\u001b[1m23/23\u001b[0m \u001b[32m━━━━━━━━━━━━━━━━━━━━\u001b[0m\u001b[37m\u001b[0m \u001b[1m0s\u001b[0m 5ms/step - accuracy: 0.5729 - loss: 0.6768 - val_accuracy: 0.4293 - val_loss: 0.6964\n",
      "Epoch 17/20\n",
      "\u001b[1m23/23\u001b[0m \u001b[32m━━━━━━━━━━━━━━━━━━━━\u001b[0m\u001b[37m\u001b[0m \u001b[1m0s\u001b[0m 5ms/step - accuracy: 0.5844 - loss: 0.6860 - val_accuracy: 0.4728 - val_loss: 0.6989\n",
      "Epoch 18/20\n",
      "\u001b[1m23/23\u001b[0m \u001b[32m━━━━━━━━━━━━━━━━━━━━\u001b[0m\u001b[37m\u001b[0m \u001b[1m0s\u001b[0m 5ms/step - accuracy: 0.5778 - loss: 0.6822 - val_accuracy: 0.5109 - val_loss: 0.6949\n",
      "Epoch 19/20\n",
      "\u001b[1m23/23\u001b[0m \u001b[32m━━━━━━━━━━━━━━━━━━━━\u001b[0m\u001b[37m\u001b[0m \u001b[1m0s\u001b[0m 5ms/step - accuracy: 0.5786 - loss: 0.6956 - val_accuracy: 0.4348 - val_loss: 0.7073\n",
      "Epoch 20/20\n",
      "\u001b[1m23/23\u001b[0m \u001b[32m━━━━━━━━━━━━━━━━━━━━\u001b[0m\u001b[37m\u001b[0m \u001b[1m0s\u001b[0m 5ms/step - accuracy: 0.5627 - loss: 0.6842 - val_accuracy: 0.4565 - val_loss: 0.7149\n"
     ]
    },
    {
     "data": {
      "text/plain": [
       "<keras.src.callbacks.history.History at 0x24bde7f9ac0>"
      ]
     },
     "execution_count": 10,
     "metadata": {},
     "output_type": "execute_result"
    }
   ],
   "source": [
    "split = int(len(X_seq) * 0.8)\n",
    "X_train_lstm, X_test_lstm = X_seq[:split], X_seq[split:]\n",
    "y_train_lstm, y_test_lstm = y_seq[:split], y_seq[split:]\n",
    "\n",
    "from tensorflow.keras.models import Sequential\n",
    "from tensorflow.keras.layers import LSTM, Dense, Dropout\n",
    "from tensorflow.keras.optimizers import Adam\n",
    "\n",
    "model = Sequential()\n",
    "model.add(LSTM(64, return_sequences=True, input_shape=(X_train_lstm.shape[1], X_train_lstm.shape[2])))\n",
    "model.add(Dropout(0.2))\n",
    "model.add(LSTM(32))\n",
    "model.add(Dense(1, activation='sigmoid'))\n",
    "model.compile(loss='binary_crossentropy', optimizer=Adam(0.001), metrics=['accuracy'])\n",
    "model.fit(X_train_lstm, y_train_lstm, epochs=20, batch_size=32, validation_data=(X_test_lstm, y_test_lstm), verbose=1)"
   ]
  },
  {
   "cell_type": "code",
   "execution_count": 11,
   "id": "a9c707b6",
   "metadata": {},
   "outputs": [
    {
     "name": "stdout",
     "output_type": "stream",
     "text": [
      "✅ Acurácia do LSTM: 0.46\n"
     ]
    }
   ],
   "source": [
    "loss, acc = model.evaluate(X_test_lstm, y_test_lstm, verbose=0)\n",
    "print(f\"✅ Acurácia do LSTM: {acc:.2f}\")"
   ]
  }
 ],
 "metadata": {
  "kernelspec": {
   "display_name": "env",
   "language": "python",
   "name": "python3"
  },
  "language_info": {
   "codemirror_mode": {
    "name": "ipython",
    "version": 3
   },
   "file_extension": ".py",
   "mimetype": "text/x-python",
   "name": "python",
   "nbconvert_exporter": "python",
   "pygments_lexer": "ipython3",
   "version": "3.12.3"
  }
 },
 "nbformat": 4,
 "nbformat_minor": 5
}
